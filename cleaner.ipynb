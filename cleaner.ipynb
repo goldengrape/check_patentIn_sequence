{
 "cells": [
  {
   "cell_type": "markdown",
   "metadata": {},
   "source": [
    "# 按照内容更新column"
   ]
  },
  {
   "cell_type": "code",
   "execution_count": 1,
   "metadata": {
    "ExecuteTime": {
     "end_time": "2017-11-12T08:47:09.793640Z",
     "start_time": "2017-11-12T08:47:08.802724Z"
    },
    "collapsed": true
   },
   "outputs": [],
   "source": [
    "import re\n",
    "import pandas as pd\n",
    "from Bio.SeqUtils import seq1"
   ]
  },
  {
   "cell_type": "code",
   "execution_count": 2,
   "metadata": {
    "ExecuteTime": {
     "end_time": "2017-11-12T08:47:09.801892Z",
     "start_time": "2017-11-12T08:47:09.795746Z"
    },
    "collapsed": true
   },
   "outputs": [],
   "source": [
    "def update_column(dataframe_2bClean,col,update_method):\n",
    "    dataframe_2bClean[col]=[update_method(x) for x in dataframe_2bClean[col]]\n",
    "    return dataframe_2bClean"
   ]
  },
  {
   "cell_type": "markdown",
   "metadata": {},
   "source": [
    "# 根据chaintype关键字清洗chaintype"
   ]
  },
  {
   "cell_type": "code",
   "execution_count": 3,
   "metadata": {
    "ExecuteTime": {
     "end_time": "2017-11-12T08:47:09.840408Z",
     "start_time": "2017-11-12T08:47:09.804443Z"
    },
    "collapsed": true
   },
   "outputs": [],
   "source": [
    "def each_chaintype_clean(x_2bclean):\n",
    "    marker_words_dict={\n",
    "    \"HeavyChain\":[\"Heavy\",\"heavy\",\"VH\",\"vh\"],\n",
    "    \"LightChain\":[\"Light\",\"light\",\"VL\",\"vl\"],\n",
    "    \"HCCDR1\":[\"HC CDR1\",\"HCCDR1\"],\n",
    "    \"HCCDR2\":[\"HC CDR2\",\"HCCDR2\"],\n",
    "    \"HCCDR3\":[\"HC CDR3\",\"HCCDR3\"],\n",
    "    \"LCCDR1\":[\"LC CDR1\",\"LCCDR1\"],\n",
    "    \"LCCDR2\":[\"LC CDR2\",\"LCCDR2\"],\n",
    "    \"LCCDR3\":[\"LC CDR3\",\"LCCDR3\"],\n",
    "    }\n",
    "    result=\"sequence\"\n",
    "    for chaintype in marker_words_dict.keys():\n",
    "        for keyword in marker_words_dict.get(chaintype):\n",
    "            if keyword in x_2bclean:\n",
    "                result=chaintype\n",
    "                return result\n",
    "        \n",
    "    return result\n",
    "\n",
    "def chaintype_clean(dataframe_2bClean,col):\n",
    "    return update_column(dataframe_2bClean,col,each_chaintype_clean)"
   ]
  },
  {
   "cell_type": "markdown",
   "metadata": {},
   "source": [
    "# 清理name"
   ]
  },
  {
   "cell_type": "code",
   "execution_count": 4,
   "metadata": {
    "ExecuteTime": {
     "end_time": "2017-11-12T08:47:09.882221Z",
     "start_time": "2017-11-12T08:47:09.847353Z"
    },
    "collapsed": true
   },
   "outputs": [],
   "source": [
    "def each_name_clean(ID_2bClean):\n",
    "    # 先清理掉所有特殊符号字符\n",
    "    ID_2bClean=re.sub(\"[^A-Za-z0-9\\s]\", \" \",ID_2bClean)\n",
    "    # 再清理掉常用的关键词\n",
    "    clean_word_list=[\"Heavy\",\"Light\",\"Chain\",\"HC\",\"LC\",\"CDR1\",\"CDR2\",\"CDR3\"]\n",
    "    for clean_word in clean_word_list:\n",
    "        ID_2bClean=re.sub(clean_word, \"\",ID_2bClean)\n",
    "    \n",
    "    # 如果最后一位为数字, 加上一个空格, 满足\\d\\s的选择\n",
    "    ID_2bClean=ID_2bClean.strip()+\" \"\n",
    "    # 按照数字后为空格的方式切分\n",
    "    ID_part1=re.split(\"\\d\\s\",ID_2bClean)[0]\n",
    "    ID_part2=re.findall(\"\\d\\s\",ID_2bClean)\n",
    "    if len(ID_part2)==0:\n",
    "        ID=ID_part1\n",
    "    else:\n",
    "        ID=ID_part1+ID_part2[0]\n",
    "#     ID=ID_2bClean\n",
    "    ID=ID.strip()\n",
    "    return ID\n",
    "def name_clean(dataframe_2bClean,col):\n",
    "    return update_column(dataframe_2bClean,col,each_name_clean)"
   ]
  },
  {
   "cell_type": "markdown",
   "metadata": {},
   "source": [
    "# 清洗3字母序列"
   ]
  },
  {
   "cell_type": "code",
   "execution_count": 5,
   "metadata": {
    "ExecuteTime": {
     "end_time": "2017-11-12T08:47:09.895679Z",
     "start_time": "2017-11-12T08:47:09.884552Z"
    },
    "collapsed": true
   },
   "outputs": [],
   "source": [
    "def each_seq_3letters_clean(seq_2bClean):\n",
    "    s=re.findall('[A-Z][a-z][a-z]',seq_2bClean)\n",
    "    seq=''.join(s)\n",
    "    seq=seq1(seq)\n",
    "    return(seq)\n",
    "def seq_3letters_clean(dataframe_2bClean,col):\n",
    "    return update_column(dataframe_2bClean,col,each_seq_3letters_clean)"
   ]
  },
  {
   "cell_type": "markdown",
   "metadata": {},
   "source": [
    "# 清洗单字母序列"
   ]
  },
  {
   "cell_type": "code",
   "execution_count": 6,
   "metadata": {
    "ExecuteTime": {
     "end_time": "2017-11-12T08:47:09.907736Z",
     "start_time": "2017-11-12T08:47:09.898539Z"
    },
    "collapsed": true
   },
   "outputs": [],
   "source": [
    "def each_seq_1letters_clean(seq_2bClean):\n",
    "    seq_2bClean=seq_2bClean.strip()\n",
    "    s=re.findall('[A-Z]*',seq_2bClean)\n",
    "    seq=s[0]\n",
    "    return(seq)\n",
    "\n",
    "def seq_1letters_clean(dataframe_2bClean,col):\n",
    "    return update_column(dataframe_2bClean,col,each_seq_1letters_clean)"
   ]
  },
  {
   "cell_type": "markdown",
   "metadata": {},
   "source": [
    "# 清洗ID"
   ]
  },
  {
   "cell_type": "code",
   "execution_count": 7,
   "metadata": {
    "ExecuteTime": {
     "end_time": "2017-11-12T08:47:09.933499Z",
     "start_time": "2017-11-12T08:47:09.911464Z"
    },
    "collapsed": true
   },
   "outputs": [],
   "source": [
    "def each_ID_clean(ID_2bClean):\n",
    "    if type(ID_2bClean) != str:\n",
    "        ID_2bClean=str(int(ID_2bClean))\n",
    "    numstr=''.join(re.findall('\\d',ID_2bClean))\n",
    "    if numstr==\"\": # 如果没有用于生成ID的数字, 则会得到空字符串\n",
    "        num=-1     # 使用一个负数作为标记, 说明并没有合适的ID\n",
    "    else:\n",
    "        num=int(numstr)\n",
    "    return(num)\n",
    "\n",
    "def ID_clean(dataframe_2bClean,col):\n",
    "    return update_column(dataframe_2bClean,col,each_ID_clean)"
   ]
  },
  {
   "cell_type": "code",
   "execution_count": null,
   "metadata": {
    "collapsed": true
   },
   "outputs": [],
   "source": []
  }
 ],
 "metadata": {
  "kernelspec": {
   "display_name": "Python 3",
   "language": "python",
   "name": "python3"
  },
  "language_info": {
   "codemirror_mode": {
    "name": "ipython",
    "version": 3
   },
   "file_extension": ".py",
   "mimetype": "text/x-python",
   "name": "python",
   "nbconvert_exporter": "python",
   "pygments_lexer": "ipython3",
   "version": "3.6.1"
  },
  "toc": {
   "colors": {
    "hover_highlight": "#DAA520",
    "navigate_num": "#000000",
    "navigate_text": "#333333",
    "running_highlight": "#FF0000",
    "selected_highlight": "#FFD700",
    "sidebar_border": "#EEEEEE",
    "wrapper_background": "#FFFFFF"
   },
   "moveMenuLeft": true,
   "nav_menu": {
    "height": "146px",
    "width": "254px"
   },
   "navigate_menu": true,
   "number_sections": true,
   "sideBar": true,
   "threshold": 4,
   "toc_cell": false,
   "toc_section_display": "block",
   "toc_window_display": false,
   "widenNotebook": false
  }
 },
 "nbformat": 4,
 "nbformat_minor": 2
}

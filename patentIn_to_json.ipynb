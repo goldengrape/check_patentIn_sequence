{
 "cells": [
  {
   "cell_type": "markdown",
   "metadata": {},
   "source": [
    "# 读取并整理txt"
   ]
  },
  {
   "cell_type": "markdown",
   "metadata": {},
   "source": [
    "# 读取txt"
   ]
  },
  {
   "cell_type": "code",
   "execution_count": 1,
   "metadata": {
    "ExecuteTime": {
     "end_time": "2017-11-12T08:48:51.484462Z",
     "start_time": "2017-11-12T08:48:51.473106Z"
    },
    "collapsed": true
   },
   "outputs": [],
   "source": [
    "import re\n",
    "import os\n"
   ]
  },
  {
   "cell_type": "markdown",
   "metadata": {},
   "source": [
    "## 指定文件路径和文件名"
   ]
  },
  {
   "cell_type": "code",
   "execution_count": 2,
   "metadata": {
    "ExecuteTime": {
     "end_time": "2017-11-12T08:48:51.493344Z",
     "start_time": "2017-11-12T08:48:51.488782Z"
    },
    "collapsed": true
   },
   "outputs": [],
   "source": [
    "if __name__==\"__main__\":\n",
    "    input_path='demo'\n",
    "    fname='BBB.txt'\n",
    "    output_path=\"demo\"\n"
   ]
  },
  {
   "cell_type": "markdown",
   "metadata": {},
   "source": [
    "## 打开文件, 读入文件\n"
   ]
  },
  {
   "cell_type": "code",
   "execution_count": 3,
   "metadata": {
    "ExecuteTime": {
     "end_time": "2017-11-12T08:48:51.503894Z",
     "start_time": "2017-11-12T08:48:51.496067Z"
    },
    "collapsed": true
   },
   "outputs": [],
   "source": [
    "def read_content_fromTXT(input_path,fname):\n",
    "    filename=os.path.join(input_path,fname)\n",
    "    txtfile = open(filename,'r')\n",
    "    sContent=txtfile.read()\n",
    "    txtfile.close()\n",
    "    return sContent"
   ]
  },
  {
   "cell_type": "code",
   "execution_count": 4,
   "metadata": {
    "ExecuteTime": {
     "end_time": "2017-11-12T08:48:51.510654Z",
     "start_time": "2017-11-12T08:48:51.506688Z"
    },
    "collapsed": true
   },
   "outputs": [],
   "source": [
    "if __name__==\"__main__\":\n",
    "    # 打开并读入文件\n",
    "    sContent=read_content_fromTXT(input_path,fname)"
   ]
  },
  {
   "cell_type": "markdown",
   "metadata": {},
   "source": [
    "# 转换成JSON"
   ]
  },
  {
   "cell_type": "markdown",
   "metadata": {},
   "source": [
    "## 增加标签\n",
    "使每一个条目都统一成为\n",
    "```\n",
    "<标签名> 内容\n",
    "```\n",
    "\n",
    "* 在SEQUENCE LISTING前增加标签000\n",
    "* 在400标签之后增加序列标签\n"
   ]
  },
  {
   "cell_type": "code",
   "execution_count": 5,
   "metadata": {
    "ExecuteTime": {
     "end_time": "2017-11-12T08:48:51.517454Z",
     "start_time": "2017-11-12T08:48:51.513508Z"
    },
    "collapsed": true
   },
   "outputs": [],
   "source": [
    "def add_000_to_title(sContent):\n",
    "    sContent=\"<000>\"+sContent\n",
    "    return sContent"
   ]
  },
  {
   "cell_type": "code",
   "execution_count": 6,
   "metadata": {
    "ExecuteTime": {
     "end_time": "2017-11-12T08:48:51.528800Z",
     "start_time": "2017-11-12T08:48:51.520738Z"
    },
    "collapsed": true
   },
   "outputs": [],
   "source": [
    "if __name__==\"__main__\":\n",
    "    # 打开并读入文件\n",
    "    sContent=read_content_fromTXT(input_path,fname)\n",
    "    \n",
    "    # 在SEQUENCE LISTING前增加标签000\n",
    "    sContent= add_000_to_title(sContent)\n",
    "    #print(sContent)\n",
    "    "
   ]
  },
  {
   "cell_type": "code",
   "execution_count": 7,
   "metadata": {
    "ExecuteTime": {
     "end_time": "2017-11-12T08:48:51.542005Z",
     "start_time": "2017-11-12T08:48:51.531013Z"
    },
    "collapsed": true
   },
   "outputs": [],
   "source": [
    "def add_tag_after_tag(sContent,add_tag,target_tag):\n",
    "#     target_tag=\"<400>\"\n",
    "#     add_tag=\"<seq>\"\n",
    "    target=target_tag+\".*\\n\"\n",
    "    words=re.findall(target,sContent)\n",
    "    for w in words:\n",
    "        sContent=re.sub(w,w+add_tag,sContent)\n",
    "    return(sContent)"
   ]
  },
  {
   "cell_type": "code",
   "execution_count": 8,
   "metadata": {
    "ExecuteTime": {
     "end_time": "2017-11-12T08:48:51.556665Z",
     "start_time": "2017-11-12T08:48:51.544886Z"
    },
    "collapsed": true
   },
   "outputs": [],
   "source": [
    "if __name__==\"__main__\":\n",
    "    # 打开并读入文件\n",
    "    sContent=read_content_fromTXT(input_path,fname)\n",
    "    \n",
    "    # 在SEQUENCE LISTING前增加标签000\n",
    "    sContent= add_000_to_title(sContent)\n",
    "    \n",
    "    # 在400标签下一行增加标签seq\n",
    "    sContent=add_tag_after_tag(sContent,\"<seq>\",\"<400>\")\n",
    "    #print(sContent)"
   ]
  },
  {
   "cell_type": "markdown",
   "metadata": {},
   "source": [
    "## 替换所有的换行\n",
    "需要在增加了seq标签以后进行"
   ]
  },
  {
   "cell_type": "code",
   "execution_count": 9,
   "metadata": {
    "ExecuteTime": {
     "end_time": "2017-11-12T08:48:51.564823Z",
     "start_time": "2017-11-12T08:48:51.558684Z"
    },
    "collapsed": true
   },
   "outputs": [],
   "source": [
    "def sub_all_return(sContent):\n",
    "    sContent=re.sub(\"\\n\",\"\",sContent)\n",
    "\n",
    "#     sContent=re.sub(\",\",\" \",sContent) # 去掉原有的逗号\n",
    "    sContent=re.sub(\"<\",\",\\n<\",sContent)\n",
    "    sContent=sContent[2:] # 去掉首行多余的东西\n",
    "    return sContent"
   ]
  },
  {
   "cell_type": "code",
   "execution_count": 10,
   "metadata": {
    "ExecuteTime": {
     "end_time": "2017-11-12T08:48:51.576237Z",
     "start_time": "2017-11-12T08:48:51.567361Z"
    },
    "collapsed": true
   },
   "outputs": [],
   "source": [
    "if __name__==\"__main__\":\n",
    "    # 打开并读入文件\n",
    "    sContent=read_content_fromTXT(input_path,fname)\n",
    "    \n",
    "    # 在SEQUENCE LISTING前增加标签000\n",
    "    sContent= add_000_to_title(sContent)\n",
    "    \n",
    "    # 在400标签下一行增加标签seq\n",
    "    sContent=add_tag_after_tag(sContent,\"<seq>\",\"<400>\")\n",
    "    \n",
    "    # 替换所有的换行\n",
    "    sContent=sub_all_return(sContent)\n",
    "    #print(sContent)"
   ]
  },
  {
   "cell_type": "markdown",
   "metadata": {},
   "source": [
    "## 以210分界, 作为对象加大括号"
   ]
  },
  {
   "cell_type": "code",
   "execution_count": 11,
   "metadata": {
    "ExecuteTime": {
     "end_time": "2017-11-12T08:48:51.583517Z",
     "start_time": "2017-11-12T08:48:51.578818Z"
    },
    "collapsed": true
   },
   "outputs": [],
   "source": [
    "def add_to_obj(sContent):\n",
    "    sContent=re.sub('<210>','},\\n{\\n<210>',sContent)\n",
    "    sContent='{\\n'+sContent+'\\n}'\n",
    "    return sContent"
   ]
  },
  {
   "cell_type": "code",
   "execution_count": 12,
   "metadata": {
    "ExecuteTime": {
     "end_time": "2017-11-12T08:48:51.603019Z",
     "start_time": "2017-11-12T08:48:51.586940Z"
    }
   },
   "outputs": [
    {
     "name": "stdout",
     "output_type": "stream",
     "text": [
      "{\n",
      "<000>                         SEQUENCE LISTING,\n",
      "<110>  GoldenGrape Phama,\n",
      "<120>  Antibodies of GG,\n",
      "<130>  42.5TH,\n",
      "<160>  986,\n",
      "<170>  PatentIn version 3.5,\n",
      "},\n",
      "{\n",
      "<210>  1,\n",
      "<211>  113,\n",
      "<212>  PRT,\n",
      "<213>  Artificial Sequence,\n",
      "<220>,\n",
      "<223>  CJK42 Heavy Chain Variable Region,\n",
      "<400>  1,\n",
      "<seq>,\n",
      "<seq>Gln Ser Ser Arg Arg Ser Gln Gln Gln Gln Gln Gln Gln Gln Gln Gln1               5                   10                  15Leu Ser Ser Ser Ser Ser Pro Pro Pro Pro Ser Ser Ser Ser Gly Leu            20                  25                  30Gly Gly Gly Arg Arg Arg Ala Ala Ala Met Met Met Met Met Met Met        35                  40                  45Ser Ser Ser Ser Ser Ser Ser Ser Ser Ser Ser Ser Ser Ser Ser Ser    50                  55                  60Thr Thr Thr Thr Thr Thr Thr Thr Thr Thr Thr Thr Thr Thr Thr Thr65                  70                  75                  80Pro Pro Pro Pro Pro Pro Pro Pro Pro Pro Pro Pro Pro Pro Pro Pro                85                  90                  95Arg Arg Arg Arg Arg Arg Arg Arg Arg Arg Arg Arg Arg Arg Arg Arg            100                 105                 110Ser,\n",
      "},\n",
      "{\n",
      "<210>  2,\n",
      "<211>  113,\n",
      "<212>  PRT,\n",
      "<213>  Artificial Sequence,\n",
      "<220>,\n",
      "<223>  CJK42 Light Chain Variable Region,\n",
      "<400>  1,\n",
      "<seq>,\n",
      "<seq>Gln Gln Gln Gln Ser Ser Gln Gln Gln Gln Gln Asn Asn Asp Asp Asp1               5                   10                  15Leu Leu Leu Leu Ser Leu Asp Asp Leu Leu Leu Leu Leu Leu Leu Leu            20                  25                  30Met Met Met Met Met Met Met Met Met Met Met Met Met Met Met Met        35                  40                  45Ser Ser Ala Ala Ala Ala Ala Gly Gly Gly Tyr Thr Ser Ser Ser Ser    50                  55                  60Thr Thr Thr Thr Thr Thr Thr Thr Thr Thr Thr Thr Thr Thr Thr Thr65                  70                  75                  80Pro Pro Pro Pro Pro Pro Pro Pro Pro Pro Pro Pro Pro Pro Pro Pro                85                  90                  95Arg Arg Arg Arg Arg Arg Arg Arg Arg Arg Arg Arg Arg Arg Arg Arg            100                 105                 110Ser,\n",
      "},\n",
      "{\n",
      "<210>  41,\n",
      "<211>  5,\n",
      "<212>  PRT,\n",
      "<213>  Artificial Sequence,\n",
      "<220>,\n",
      "<223>  CJK42 HC CDR1,\n",
      "<400>  41,\n",
      "<seq>Ser Ser Arg Arg Ser1               5,\n",
      "},\n",
      "{\n",
      "<210>  42,\n",
      "<211>  14,\n",
      "<212>  PRT,\n",
      "<213>  Artificial Sequence,\n",
      "<220>,\n",
      "<223>  CJK42 HC CDR2,\n",
      "<400>  42,\n",
      "<seq>Ser Ser Ser Ser Ser Pro Pro Pro Pro Ser Ser Ser Ser Gly1               5                   10,\n",
      "},\n",
      "{\n",
      "<210>  43,\n",
      "<211>  9,\n",
      "<212>  PRT,\n",
      "<213>  Artificial Sequence,\n",
      "<220>,\n",
      "<223>  CJK42 HC CDR3,\n",
      "<400>  43,\n",
      "<seq>Gly Gly Gly Arg Arg Arg Ala Ala Ala1               5,\n",
      "},\n",
      "{\n",
      "<210>  101,\n",
      "<211>  13,\n",
      "<212>  PRT,\n",
      "<213>  Artificial Sequence,\n",
      "<220>,\n",
      "<223>  CJK42 LC CDR1,\n",
      "<400>  101,\n",
      "<seq>Gln Ser Ser Gln Gln Gln Gln Gln Asn Asn Asp Asp Asp1               5                   10,\n",
      "},\n",
      "{\n",
      "<210>  102,\n",
      "<211>  7,\n",
      "<212>  PRT,\n",
      "<213>  Artificial Sequence,\n",
      "<220>,\n",
      "<223>  CJK42 LC CDR2,\n",
      "<400>  102,\n",
      "<seq>Leu Leu Leu Ser Leu Asp Asp1               5,\n",
      "},\n",
      "{\n",
      "<210>  103,\n",
      "<211>  10,\n",
      "<212>  PRT,\n",
      "<213>  Artificial Sequence,\n",
      "<220>,\n",
      "<223>  CJK42 LC CDR3,\n",
      "<400>  103,\n",
      "<seq>Ala Ala Ala Ala Ala Gly Gly Gly Tyr Thr1               5                   10,\n",
      "},\n",
      "{\n",
      "<210>  210,\n",
      "<211>  113,\n",
      "<212>  PRT,\n",
      "<213>  Artificial Sequence,\n",
      "<220>,\n",
      "<223>  Humanized VH 1,\n",
      "<400>  211,\n",
      "<seq>,\n",
      "<seq>Gln Gln Gln Gln Leu Leu Leu Leu Leu Gln Gln Gln Gln Gln Gln Gln1               5                   10                  15Leu Leu Leu Leu Leu Leu Leu Leu Leu Leu Leu Leu Leu Leu Leu Leu            20                  25                  30Met Met Met Met Met Met Met Met Met Met Met Met Met Met Met Met        35                  40                  45Ser Ser Ser Ser Ser Ser Ser Ser Ser Ser Ser Ser Ser Ser Ser Ser    50                  55                  60Thr Thr Thr Thr Thr Thr Thr Thr Thr Thr Thr Thr Thr Thr Thr Thr65                  70                  75                  80Pro Pro Pro Pro Pro Pro Pro Pro Pro Pro Pro Pro Pro Pro Pro Pro                85                  90                  95Arg Arg Arg Arg Arg Arg Arg Arg Arg Arg Arg Arg Arg Arg Arg Arg            100                 105                 110Ser,\n",
      "},\n",
      "{\n",
      "<210>  211,\n",
      "<211>  113,\n",
      "<212>  PRT,\n",
      "<213>  Artificial Sequence,\n",
      "<220>,\n",
      "<223>  Humanized VL 2,\n",
      "<400>  211,\n",
      "<seq>,\n",
      "<seq>Gln Gln Gln Gln Gln Gln Gln Gln Gln Gln Gln Gln Gln Gln Gln Gln1               5                   10                  15Leu Leu Leu Leu Leu Leu Leu Leu Leu Leu Leu Leu Leu Leu Leu Leu            20                  25                  30Met Met Met Met Met Met Met Met Met Met Met Met Met Met Met Met        35                  40                  45Ser Ser Ser Ser Ser Ser Ser Ser Ser Ser Ser Ser Ser Ser Ser Ser    50                  55                  60Thr Thr Thr Thr Thr Thr Thr Thr Thr Thr Thr Thr Thr Thr Thr Thr65                  70                  75                  80Pro Pro Pro Pro Pro Pro Pro Pro Pro Pro Pro Pro Pro Pro Pro Pro                85                  90                  95Arg Arg Arg Arg Arg Arg Arg Arg Arg Arg Arg Arg Arg Arg Arg Arg            100                 105                 110Ser\n",
      "}\n"
     ]
    }
   ],
   "source": [
    "if __name__==\"__main__\":\n",
    "    # 打开并读入文件\n",
    "    sContent=read_content_fromTXT(input_path,fname)\n",
    "    \n",
    "    # 在SEQUENCE LISTING前增加标签000\n",
    "    sContent= add_000_to_title(sContent)\n",
    "    \n",
    "    # 在400标签下一行增加标签seq\n",
    "    sContent=add_tag_after_tag(sContent,\"<seq>\",\"<400>\")\n",
    "    \n",
    "    # 替换所有的换行\n",
    "    sContent=sub_all_return(sContent)\n",
    "    \n",
    "    # 以210分界, 作为对象加大括号\n",
    "    sContent= add_to_obj(sContent)\n",
    "    print(sContent)\n",
    "    "
   ]
  },
  {
   "cell_type": "markdown",
   "metadata": {},
   "source": [
    "## 加入方括号成为键值数组\n",
    "\n",
    "* 在首次出现2xx的标签时, 加入左反括号[\n",
    "* 在文件末尾加入右方括号]"
   ]
  },
  {
   "cell_type": "code",
   "execution_count": 13,
   "metadata": {
    "ExecuteTime": {
     "end_time": "2017-11-12T08:48:51.609950Z",
     "start_time": "2017-11-12T08:48:51.605973Z"
    },
    "collapsed": true,
    "scrolled": false
   },
   "outputs": [],
   "source": [
    "def add_square(sContent):\n",
    "    sContent='['+sContent+']'\n",
    "    return sContent"
   ]
  },
  {
   "cell_type": "code",
   "execution_count": 14,
   "metadata": {
    "ExecuteTime": {
     "end_time": "2017-11-12T08:48:51.630891Z",
     "start_time": "2017-11-12T08:48:51.612976Z"
    },
    "collapsed": true,
    "scrolled": false
   },
   "outputs": [],
   "source": [
    "if __name__==\"__main__\":\n",
    "    # 打开并读入文件\n",
    "    sContent=read_content_fromTXT(input_path,fname)\n",
    "    \n",
    "    # 在SEQUENCE LISTING前增加标签000\n",
    "    sContent= add_000_to_title(sContent)\n",
    "    \n",
    "    # 在400标签下一行增加标签seq\n",
    "    sContent=add_tag_after_tag(sContent,\"<seq>\",\"<400>\")\n",
    "    \n",
    "    # 替换所有的换行\n",
    "    sContent=sub_all_return(sContent)\n",
    "    \n",
    "    # 以210分界, 作为对象加大括号\n",
    "    sContent= add_to_obj(sContent)\n",
    "    \n",
    "    #加入方括号成为键值数组\n",
    "    sContent=add_square(sContent)\n",
    "    # print(sContent)"
   ]
  },
  {
   "cell_type": "markdown",
   "metadata": {},
   "source": [
    "## 重整所有的标签"
   ]
  },
  {
   "cell_type": "code",
   "execution_count": 15,
   "metadata": {
    "ExecuteTime": {
     "end_time": "2017-11-12T08:48:51.642040Z",
     "start_time": "2017-11-12T08:48:51.633035Z"
    },
    "collapsed": true
   },
   "outputs": [],
   "source": [
    "def sub_all_tag(sContent):\n",
    "    sContent=re.sub('<','\"<',sContent)\n",
    "    sContent=re.sub('>','>\" : \" ',sContent)\n",
    "    sContent=re.sub(',\\n','\",\\n',sContent)\n",
    "    sContent=re.sub(',\\n}\",','\\n},',sContent)\n",
    "    sContent=re.sub('\\n}]','\"\\n}]',sContent)\n",
    "    return sContent"
   ]
  },
  {
   "cell_type": "code",
   "execution_count": 16,
   "metadata": {
    "ExecuteTime": {
     "end_time": "2017-11-12T08:48:51.664708Z",
     "start_time": "2017-11-12T08:48:51.644481Z"
    }
   },
   "outputs": [
    {
     "name": "stdout",
     "output_type": "stream",
     "text": [
      "[{\n",
      "\"<000>\" : \"                          SEQUENCE LISTING\",\n",
      "\"<110>\" : \"   GoldenGrape Phama\",\n",
      "\"<120>\" : \"   Antibodies of GG\",\n",
      "\"<130>\" : \"   42.5TH\",\n",
      "\"<160>\" : \"   986\",\n",
      "\"<170>\" : \"   PatentIn version 3.5\"\n",
      "},\n",
      "{\n",
      "\"<210>\" : \"   1\",\n",
      "\"<211>\" : \"   113\",\n",
      "\"<212>\" : \"   PRT\",\n",
      "\"<213>\" : \"   Artificial Sequence\",\n",
      "\"<220>\" : \" \",\n",
      "\"<223>\" : \"   CJK42 Heavy Chain Variable Region\",\n",
      "\"<400>\" : \"   1\",\n",
      "\"<seq>\" : \" \",\n",
      "\"<seq>\" : \" Gln Ser Ser Arg Arg Ser Gln Gln Gln Gln Gln Gln Gln Gln Gln Gln1               5                   10                  15Leu Ser Ser Ser Ser Ser Pro Pro Pro Pro Ser Ser Ser Ser Gly Leu            20                  25                  30Gly Gly Gly Arg Arg Arg Ala Ala Ala Met Met Met Met Met Met Met        35                  40                  45Ser Ser Ser Ser Ser Ser Ser Ser Ser Ser Ser Ser Ser Ser Ser Ser    50                  55                  60Thr Thr Thr Thr Thr Thr Thr Thr Thr Thr Thr Thr Thr Thr Thr Thr65                  70                  75                  80Pro Pro Pro Pro Pro Pro Pro Pro Pro Pro Pro Pro Pro Pro Pro Pro                85                  90                  95Arg Arg Arg Arg Arg Arg Arg Arg Arg Arg Arg Arg Arg Arg Arg Arg            100                 105                 110Ser\"\n",
      "},\n",
      "{\n",
      "\"<210>\" : \"   2\",\n",
      "\"<211>\" : \"   113\",\n",
      "\"<212>\" : \"   PRT\",\n",
      "\"<213>\" : \"   Artificial Sequence\",\n",
      "\"<220>\" : \" \",\n",
      "\"<223>\" : \"   CJK42 Light Chain Variable Region\",\n",
      "\"<400>\" : \"   1\",\n",
      "\"<seq>\" : \" \",\n",
      "\"<seq>\" : \" Gln Gln Gln Gln Ser Ser Gln Gln Gln Gln Gln Asn Asn Asp Asp Asp1               5                   10                  15Leu Leu Leu Leu Ser Leu Asp Asp Leu Leu Leu Leu Leu Leu Leu Leu            20                  25                  30Met Met Met Met Met Met Met Met Met Met Met Met Met Met Met Met        35                  40                  45Ser Ser Ala Ala Ala Ala Ala Gly Gly Gly Tyr Thr Ser Ser Ser Ser    50                  55                  60Thr Thr Thr Thr Thr Thr Thr Thr Thr Thr Thr Thr Thr Thr Thr Thr65                  70                  75                  80Pro Pro Pro Pro Pro Pro Pro Pro Pro Pro Pro Pro Pro Pro Pro Pro                85                  90                  95Arg Arg Arg Arg Arg Arg Arg Arg Arg Arg Arg Arg Arg Arg Arg Arg            100                 105                 110Ser\"\n",
      "},\n",
      "{\n",
      "\"<210>\" : \"   41\",\n",
      "\"<211>\" : \"   5\",\n",
      "\"<212>\" : \"   PRT\",\n",
      "\"<213>\" : \"   Artificial Sequence\",\n",
      "\"<220>\" : \" \",\n",
      "\"<223>\" : \"   CJK42 HC CDR1\",\n",
      "\"<400>\" : \"   41\",\n",
      "\"<seq>\" : \" Ser Ser Arg Arg Ser1               5\"\n",
      "},\n",
      "{\n",
      "\"<210>\" : \"   42\",\n",
      "\"<211>\" : \"   14\",\n",
      "\"<212>\" : \"   PRT\",\n",
      "\"<213>\" : \"   Artificial Sequence\",\n",
      "\"<220>\" : \" \",\n",
      "\"<223>\" : \"   CJK42 HC CDR2\",\n",
      "\"<400>\" : \"   42\",\n",
      "\"<seq>\" : \" Ser Ser Ser Ser Ser Pro Pro Pro Pro Ser Ser Ser Ser Gly1               5                   10\"\n",
      "},\n",
      "{\n",
      "\"<210>\" : \"   43\",\n",
      "\"<211>\" : \"   9\",\n",
      "\"<212>\" : \"   PRT\",\n",
      "\"<213>\" : \"   Artificial Sequence\",\n",
      "\"<220>\" : \" \",\n",
      "\"<223>\" : \"   CJK42 HC CDR3\",\n",
      "\"<400>\" : \"   43\",\n",
      "\"<seq>\" : \" Gly Gly Gly Arg Arg Arg Ala Ala Ala1               5\"\n",
      "},\n",
      "{\n",
      "\"<210>\" : \"   101\",\n",
      "\"<211>\" : \"   13\",\n",
      "\"<212>\" : \"   PRT\",\n",
      "\"<213>\" : \"   Artificial Sequence\",\n",
      "\"<220>\" : \" \",\n",
      "\"<223>\" : \"   CJK42 LC CDR1\",\n",
      "\"<400>\" : \"   101\",\n",
      "\"<seq>\" : \" Gln Ser Ser Gln Gln Gln Gln Gln Asn Asn Asp Asp Asp1               5                   10\"\n",
      "},\n",
      "{\n",
      "\"<210>\" : \"   102\",\n",
      "\"<211>\" : \"   7\",\n",
      "\"<212>\" : \"   PRT\",\n",
      "\"<213>\" : \"   Artificial Sequence\",\n",
      "\"<220>\" : \" \",\n",
      "\"<223>\" : \"   CJK42 LC CDR2\",\n",
      "\"<400>\" : \"   102\",\n",
      "\"<seq>\" : \" Leu Leu Leu Ser Leu Asp Asp1               5\"\n",
      "},\n",
      "{\n",
      "\"<210>\" : \"   103\",\n",
      "\"<211>\" : \"   10\",\n",
      "\"<212>\" : \"   PRT\",\n",
      "\"<213>\" : \"   Artificial Sequence\",\n",
      "\"<220>\" : \" \",\n",
      "\"<223>\" : \"   CJK42 LC CDR3\",\n",
      "\"<400>\" : \"   103\",\n",
      "\"<seq>\" : \" Ala Ala Ala Ala Ala Gly Gly Gly Tyr Thr1               5                   10\"\n",
      "},\n",
      "{\n",
      "\"<210>\" : \"   210\",\n",
      "\"<211>\" : \"   113\",\n",
      "\"<212>\" : \"   PRT\",\n",
      "\"<213>\" : \"   Artificial Sequence\",\n",
      "\"<220>\" : \" \",\n",
      "\"<223>\" : \"   Humanized VH 1\",\n",
      "\"<400>\" : \"   211\",\n",
      "\"<seq>\" : \" \",\n",
      "\"<seq>\" : \" Gln Gln Gln Gln Leu Leu Leu Leu Leu Gln Gln Gln Gln Gln Gln Gln1               5                   10                  15Leu Leu Leu Leu Leu Leu Leu Leu Leu Leu Leu Leu Leu Leu Leu Leu            20                  25                  30Met Met Met Met Met Met Met Met Met Met Met Met Met Met Met Met        35                  40                  45Ser Ser Ser Ser Ser Ser Ser Ser Ser Ser Ser Ser Ser Ser Ser Ser    50                  55                  60Thr Thr Thr Thr Thr Thr Thr Thr Thr Thr Thr Thr Thr Thr Thr Thr65                  70                  75                  80Pro Pro Pro Pro Pro Pro Pro Pro Pro Pro Pro Pro Pro Pro Pro Pro                85                  90                  95Arg Arg Arg Arg Arg Arg Arg Arg Arg Arg Arg Arg Arg Arg Arg Arg            100                 105                 110Ser\"\n",
      "},\n",
      "{\n",
      "\"<210>\" : \"   211\",\n",
      "\"<211>\" : \"   113\",\n",
      "\"<212>\" : \"   PRT\",\n",
      "\"<213>\" : \"   Artificial Sequence\",\n",
      "\"<220>\" : \" \",\n",
      "\"<223>\" : \"   Humanized VL 2\",\n",
      "\"<400>\" : \"   211\",\n",
      "\"<seq>\" : \" \",\n",
      "\"<seq>\" : \" Gln Gln Gln Gln Gln Gln Gln Gln Gln Gln Gln Gln Gln Gln Gln Gln1               5                   10                  15Leu Leu Leu Leu Leu Leu Leu Leu Leu Leu Leu Leu Leu Leu Leu Leu            20                  25                  30Met Met Met Met Met Met Met Met Met Met Met Met Met Met Met Met        35                  40                  45Ser Ser Ser Ser Ser Ser Ser Ser Ser Ser Ser Ser Ser Ser Ser Ser    50                  55                  60Thr Thr Thr Thr Thr Thr Thr Thr Thr Thr Thr Thr Thr Thr Thr Thr65                  70                  75                  80Pro Pro Pro Pro Pro Pro Pro Pro Pro Pro Pro Pro Pro Pro Pro Pro                85                  90                  95Arg Arg Arg Arg Arg Arg Arg Arg Arg Arg Arg Arg Arg Arg Arg Arg            100                 105                 110Ser\"\n",
      "}]\n"
     ]
    }
   ],
   "source": [
    "if __name__==\"__main__\":\n",
    "    # 打开并读入文件\n",
    "    sContent=read_content_fromTXT(input_path,fname)\n",
    "    \n",
    "    # 在SEQUENCE LISTING前增加标签000\n",
    "    sContent= add_000_to_title(sContent)\n",
    "    \n",
    "    # 在400标签下一行增加标签seq\n",
    "    sContent=add_tag_after_tag(sContent,\"<seq>\",\"<400>\")\n",
    "    \n",
    "    # 替换所有的换行\n",
    "    sContent=sub_all_return(sContent)\n",
    "    \n",
    "    # 以210分界, 作为对象加大括号\n",
    "    sContent= add_to_obj(sContent)\n",
    "    \n",
    "    # 加入方括号成为键值数组\n",
    "    sContent=add_square(sContent)\n",
    "    \n",
    "    # 重整所有的标签\n",
    "    sContent=sub_all_tag(sContent)\n",
    "\n",
    "    print(sContent)"
   ]
  },
  {
   "cell_type": "markdown",
   "metadata": {},
   "source": [
    "# 保存成JSON"
   ]
  },
  {
   "cell_type": "code",
   "execution_count": 17,
   "metadata": {
    "ExecuteTime": {
     "end_time": "2017-11-12T08:48:51.676030Z",
     "start_time": "2017-11-12T08:48:51.667053Z"
    },
    "collapsed": true
   },
   "outputs": [],
   "source": [
    "def write_content_toJSON(output_path,fname,content):\n",
    "    fname, ext = os.path.splitext(fname)\n",
    "    output_filename=os.path.join(output_path,fname+'.json')\n",
    "\n",
    "    jsonfile = open(output_filename,'w')\n",
    "    jsonfile.write(content)\n",
    "    jsonfile.close()\n",
    "    return output_filename"
   ]
  },
  {
   "cell_type": "code",
   "execution_count": 18,
   "metadata": {
    "ExecuteTime": {
     "end_time": "2017-11-12T08:48:51.698808Z",
     "start_time": "2017-11-12T08:48:51.678730Z"
    },
    "collapsed": true
   },
   "outputs": [],
   "source": [
    "if __name__==\"__main__\":\n",
    "    # 打开并读入文件\n",
    "    sContent=read_content_fromTXT(input_path,fname)\n",
    "    \n",
    "    # 在SEQUENCE LISTING前增加标签000\n",
    "    sContent= add_000_to_title(sContent)\n",
    "    \n",
    "    # 在400标签下一行增加标签seq\n",
    "    sContent=add_tag_after_tag(sContent,\"<seq>\",\"<400>\")\n",
    "    \n",
    "    # 替换所有的换行\n",
    "    sContent=sub_all_return(sContent)\n",
    "    \n",
    "    # 以210分界, 作为对象加大括号\n",
    "    sContent= add_to_obj(sContent)\n",
    "    \n",
    "    # 加入方括号成为键值数组\n",
    "    sContent=add_square(sContent)\n",
    "    \n",
    "    # 重整所有的标签\n",
    "    sContent=sub_all_tag(sContent)\n",
    "    \n",
    "    # 保存为json\n",
    "    output_filename=write_content_toJSON(output_path,fname,sContent)\n"
   ]
  },
  {
   "cell_type": "markdown",
   "metadata": {},
   "source": [
    "# 整合封装"
   ]
  },
  {
   "cell_type": "code",
   "execution_count": 19,
   "metadata": {
    "ExecuteTime": {
     "end_time": "2017-11-12T08:48:51.732067Z",
     "start_time": "2017-11-12T08:48:51.701014Z"
    },
    "collapsed": true
   },
   "outputs": [],
   "source": [
    "def patentIn_to_json(input_path,fname,output_path):\n",
    "     # 打开并读入文件\n",
    "    sContent=read_content_fromTXT(input_path,fname)\n",
    "    \n",
    "    # 在SEQUENCE LISTING前增加标签000\n",
    "    sContent= add_000_to_title(sContent)\n",
    "    \n",
    "    # 在400标签下一行增加标签seq\n",
    "    sContent=add_tag_after_tag(sContent,\"<seq>\",\"<400>\")\n",
    "    \n",
    "    # 替换所有的换行\n",
    "    sContent=sub_all_return(sContent)\n",
    "    \n",
    "    # 以210分界, 作为对象加大括号\n",
    "    sContent= add_to_obj(sContent)\n",
    "    \n",
    "    # 加入方括号成为键值数组\n",
    "    sContent=add_square(sContent)\n",
    "    \n",
    "    # 重整所有的标签\n",
    "    sContent=sub_all_tag(sContent)\n",
    "    \n",
    "    # 保存为json\n",
    "    output_filename=write_content_toJSON(output_path,fname,sContent)\n",
    "    \n",
    "    return output_filename"
   ]
  }
 ],
 "metadata": {
  "kernelspec": {
   "display_name": "Python 3",
   "language": "python",
   "name": "python3"
  },
  "language_info": {
   "codemirror_mode": {
    "name": "ipython",
    "version": 3
   },
   "file_extension": ".py",
   "mimetype": "text/x-python",
   "name": "python",
   "nbconvert_exporter": "python",
   "pygments_lexer": "ipython3",
   "version": "3.6.1"
  },
  "toc": {
   "colors": {
    "hover_highlight": "#DAA520",
    "navigate_num": "#000000",
    "navigate_text": "#333333",
    "running_highlight": "#FF0000",
    "selected_highlight": "#FFD700",
    "sidebar_border": "#EEEEEE",
    "wrapper_background": "#FFFFFF"
   },
   "moveMenuLeft": true,
   "nav_menu": {
    "height": "278px",
    "width": "254px"
   },
   "navigate_menu": true,
   "number_sections": true,
   "sideBar": true,
   "threshold": 4,
   "toc_cell": false,
   "toc_section_display": "block",
   "toc_window_display": false,
   "widenNotebook": false
  }
 },
 "nbformat": 4,
 "nbformat_minor": 2
}

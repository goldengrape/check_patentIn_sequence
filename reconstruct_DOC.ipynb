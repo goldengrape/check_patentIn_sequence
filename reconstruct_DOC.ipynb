{
 "cells": [
  {
   "cell_type": "markdown",
   "metadata": {},
   "source": [
    "# 从Docx文件中读取表格\n"
   ]
  },
  {
   "cell_type": "markdown",
   "metadata": {},
   "source": [
    "导入必要的运行库: \n",
    "\n",
    "* collections 是用来产生有序字典\n",
    "* cleaner是自己编写的序列清理库\n"
   ]
  },
  {
   "cell_type": "code",
   "execution_count": 1,
   "metadata": {
    "ExecuteTime": {
     "end_time": "2017-11-12T08:50:25.497741Z",
     "start_time": "2017-11-12T08:50:24.148782Z"
    },
    "collapsed": true
   },
   "outputs": [],
   "source": [
    "import pandas as pd\n",
    "from pandas import DataFrame, Series\n",
    "from collections import OrderedDict # 有序字典\n",
    "from docx import Document\n",
    "import re\n",
    "import os\n",
    "from save_sequence import save_seq_to_csv # 自建包, 保存数据至csv\n",
    "from cleaner import chaintype_clean,name_clean,seq_3letters_clean, seq_1letters_clean, ID_clean\n"
   ]
  },
  {
   "cell_type": "markdown",
   "metadata": {},
   "source": [
    "## 输入参数\n",
    "\n",
    "此处需要输入路径和文件名\n",
    "\n",
    "*  doc将保存整个word文件\n",
    "*  作为子程序调用时, 本文件中所输入的参数不起作用. 请在compare_seq.ipynb文件中设定"
   ]
  },
  {
   "cell_type": "code",
   "execution_count": 2,
   "metadata": {
    "ExecuteTime": {
     "end_time": "2017-11-12T08:50:25.504729Z",
     "start_time": "2017-11-12T08:50:25.499577Z"
    },
    "collapsed": true
   },
   "outputs": [],
   "source": [
    "if __name__==\"__main__\":\n",
    "    input_path='demo'\n",
    "    fname='AAA.docx'\n",
    "    output_path='demo'"
   ]
  },
  {
   "cell_type": "markdown",
   "metadata": {},
   "source": [
    "## 此处指定表格类型\n",
    "\n",
    "需要手工指定表格类型, 注意编号从0开始, \n",
    "每一个表格都需要指定. "
   ]
  },
  {
   "cell_type": "code",
   "execution_count": 3,
   "metadata": {
    "ExecuteTime": {
     "end_time": "2017-11-12T08:50:25.528519Z",
     "start_time": "2017-11-12T08:50:25.507604Z"
    },
    "collapsed": true
   },
   "outputs": [],
   "source": [
    "if __name__==\"__main__\":\n",
    "    table_catalog_dict={\n",
    "        0: {\"head\": 1, \"seqtype\":'chain', \"chaintype\":'HeavyChain'},\n",
    "        1: {\"head\": 1, \"seqtype\":'chain', \"chaintype\":'LightChain'},\n",
    "        2: {\"head\": 2, \"seqtype\":'CDR', \"chaintype\":'HC'}, \n",
    "        3: {\"head\": 2, \"seqtype\":'CDR', \"chaintype\":'LC'}, \n",
    "        4: {\"head\": 1, \"seqtype\":'chain', \"chaintype\":'HeavyChain'},\n",
    "        5: {\"head\": 1, \"seqtype\":'chain', \"chaintype\":'LightChain'},\n",
    "    }"
   ]
  },
  {
   "cell_type": "markdown",
   "metadata": {},
   "source": [
    "## 将docx中的表格转换成pandas的Dataframe\n",
    "\n",
    "* doc:  docx的文件内容将存储在doc变量中. \n",
    "* idx: 表格的编号, 在docx文件中表格的编号, 注意python是从0开始编号的\n",
    "* table_catalog_dict:  入前所述, 为标记表格形式与内容的字典\n"
   ]
  },
  {
   "cell_type": "code",
   "execution_count": 4,
   "metadata": {
    "ExecuteTime": {
     "end_time": "2017-11-12T08:50:25.605946Z",
     "start_time": "2017-11-12T08:50:25.532022Z"
    },
    "collapsed": true
   },
   "outputs": [],
   "source": [
    "def table2pandas(doc,idx,table_catalog_dict):\n",
    "    # 提取编号为idx的表格\n",
    "    table=doc.tables[idx]\n",
    "    \n",
    "    # 确定表格实际的列数colNumber, 和行数rowNumber\n",
    "    # 注意表头中很可能有融合的单元格, 因此不能从首行中取得列数\n",
    "    colNumber=len(table.rows[-1].cells) # 首行可能有表头, 所以从末尾行取\n",
    "    rowNumber=len(table.column_cells(0))\n",
    "    \n",
    "    # 从table_catalog_dict中取得表头所占据的行数\n",
    "    head=table_catalog_dict[idx][\"head\"]\n",
    "    # 真正开始有内容的表格行就是从表头之后的行开始的. 因为首行=0, 所以实际起始行=0+head\n",
    "    rowStart=0+head\n",
    "\n",
    "    # 从表头中提取标题行内容\n",
    "    if head == 0: \n",
    "        # 无标题行, 以数字代替\n",
    "        colums_title=range(colNumber)\n",
    "    else: \n",
    "        # 当存在标题行是, 需要找到离真实内容最接近的表头行\n",
    "        colums_title=[each_cell.text for each_cell in table.row_cells(head-1)]\n",
    "        \n",
    "    # 使用有序字典作为转换成DataFrame的前身. \n",
    "    table_dict=OrderedDict();\n",
    "    \n",
    "    #遍历每一列, 将每一列的内容做成一个list\n",
    "    for colIdx in range(colNumber):\n",
    "        # colum_data是一个list包含每一列的所有单元格\n",
    "        colum_data=[each_cell.text for each_cell in table.column_cells(colIdx)]\n",
    "        # 只需要其中从起始列开始的剩余部分, 因为之前是表头内容\n",
    "        colum=colum_data[rowStart:]\n",
    "        # 压入字典中, 感觉稍微有点奇怪, 但反正做出来的是dataframe\n",
    "        table_dict[colums_title[colIdx]]=colum\n",
    "    return DataFrame(table_dict)"
   ]
  },
  {
   "cell_type": "markdown",
   "metadata": {
    "ExecuteTime": {
     "end_time": "2017-11-02T11:17:21.978054Z",
     "start_time": "2017-11-02T11:17:21.970509Z"
    }
   },
   "source": [
    "# 分别从不同类型的表格中提取\n",
    "\n",
    "总的策略是先将不同表格的dataframe同一整理成ID-sequence-chaintype的形式, 完成之后再分别进行清洗. \n",
    "\n",
    "## 从chain表格中提取\n",
    "\n",
    "表格都已经转换成了dataframe, chain表格一般是两列, (也有变态的3列), 首列是ID, 然后是sequence内容. "
   ]
  },
  {
   "cell_type": "code",
   "execution_count": 5,
   "metadata": {
    "ExecuteTime": {
     "end_time": "2017-11-12T08:50:25.629530Z",
     "start_time": "2017-11-12T08:50:25.608331Z"
    },
    "collapsed": true
   },
   "outputs": [],
   "source": [
    "def get_chain_dataframe(pd_dataframe,tableID,table_catalog_dict):\n",
    "    # 假定首列, 即第0列是ID列, 第1列是sequence列. 其他如果还有列就先不管了. \n",
    "    # 万一有变态的特殊表格, 再另行调整吧\n",
    "    ID_column=pd_dataframe.columns[0]\n",
    "    seq_column=pd_dataframe.columns[1] # 万一再碰到诡异的表格, 可能需要指定位置\n",
    "    \n",
    "    # 只提取ID列和sequence列\n",
    "    chain_dataframe=pd_dataframe.loc[:,ID_column:seq_column].copy() # 只要ID和序列两列表格, 万一有更多列不要!!!\n",
    "    \n",
    "#     # 将ID列设定成索引列. 如果需要提取数量行的话, 应当使用.iloc[行数]定位\n",
    "#     chain_dataframe.set_index(ID_column, inplace=True)\n",
    "    # 统一序列的列名称为SEQUENCE\n",
    "#     chain_dataframe.rename(columns={seq_column:\"SEQUENCE\"},inplace=True)\n",
    "    chain_dataframe.columns=[\"NAME\",\"SEQUENCE\"]\n",
    "    # 在docx文件中, 一个表格就是同一种chaintype类型. \n",
    "    # 从table_catalog_dict字典的记录中, 取得chaintype\n",
    "    chaintype=table_catalog_dict[tableID][\"chaintype\"]\n",
    "    chain_dataframe['CHAINTYPE']=chaintype\n",
    "\n",
    "    return chain_dataframe\n"
   ]
  },
  {
   "cell_type": "code",
   "execution_count": 6,
   "metadata": {
    "ExecuteTime": {
     "end_time": "2017-11-12T08:50:25.672494Z",
     "start_time": "2017-11-12T08:50:25.632589Z"
    }
   },
   "outputs": [
    {
     "name": "stdout",
     "output_type": "stream",
     "text": [
      "                                NAME  \\\n",
      "0  CJK42 Heavy Chain Variable Region   \n",
      "\n",
      "                                            SEQUENCE   CHAINTYPE  \n",
      "0  QSSRRSQQQQQQQQQQLSSSSSPPPPSSSSGLGGGRRRAAAMMMMM...  HeavyChain  \n"
     ]
    }
   ],
   "source": [
    "if __name__==\"__main__\":\n",
    "    # 读取文件\n",
    "    filename=os.path.join(input_path,fname)\n",
    "    doc = Document(filename)\n",
    "    pd_dataframe=table2pandas(doc,0,table_catalog_dict)\n",
    "    chain_dataframe=get_chain_dataframe(pd_dataframe,0,table_catalog_dict);\n",
    "    print(chain_dataframe.iloc[0:2])## 从CDR表格中提取"
   ]
  },
  {
   "cell_type": "markdown",
   "metadata": {},
   "source": [
    "## 从CDR表格中提取\n",
    "\n",
    "典型的CDR表格是有融合表头的, 然后下面的表格正文部分有4列: \n",
    "* 首列第0列是ID\n",
    "* 第1至3列分别是CDR1, CDR2, CDR3\n",
    "* 融合的表头中有标记HC或LC, 但在生成dataframe时已经抛弃了. 所以完整的类型需用从table_catalog_dict字典中取得"
   ]
  },
  {
   "cell_type": "code",
   "execution_count": 7,
   "metadata": {
    "ExecuteTime": {
     "end_time": "2017-11-12T08:50:25.710441Z",
     "start_time": "2017-11-12T08:50:25.675493Z"
    },
    "collapsed": true
   },
   "outputs": [],
   "source": [
    "def get_CDR_dataframe(pd_dataframe,tableID,table_catalog_dict):\n",
    "    # 假定首列, 即第0列是ID列, 第1列是sequence列. 其他如果还有列就先不管了. \n",
    "    # 万一有变态的特殊表格, 再另行调整吧     \n",
    "    ID_column=pd_dataframe.columns[0]\n",
    "    chaintype_base=table_catalog_dict[tableID][\"chaintype\"]\n",
    "    \n",
    "    # CDR_part_list这个列表暂存ID-sequence的对应项. \n",
    "    # 注意这里将CDR1,CDR2,CDR3的项目依次串联在一起. 但暂时仅仅在chaintype中简单记录, 之后再清洗chaintype\n",
    "    CDR_part_list=list();\n",
    "    # 遍历CDR123所在的3列. \n",
    "    for i in range(1,4):\n",
    "        CDR_part=DataFrame()\n",
    "        seq_column=pd_dataframe.columns[i]\n",
    "        # 将ID列和当前列合并成一个dataframe\n",
    "        CDR_part=pd_dataframe.loc[:,[ID_column,seq_column]].copy()\n",
    "        # 简单记录chaintype\n",
    "        CDR_part['CHAINTYPE']=chaintype_base+seq_column\n",
    "        # 重命名sequence所在列\n",
    "        CDR_part.rename(columns={seq_column:\"SEQUENCE\"},inplace=True)\n",
    "        # 将做好的dataframe压入list中暂存\n",
    "        CDR_part_list.append(CDR_part)\n",
    "    \n",
    "    # 将list中的三个dataframe连接\n",
    "    CDR_dataframe=pd.concat(CDR_part_list)\n",
    "    # 重设ID列为索引列\n",
    "#     CDR_dataframe.set_index(ID_column, inplace=True)\n",
    "    CDR_dataframe.columns=[\"NAME\",\"SEQUENCE\",'CHAINTYPE']\n",
    "    return CDR_dataframe"
   ]
  },
  {
   "cell_type": "code",
   "execution_count": 8,
   "metadata": {
    "ExecuteTime": {
     "end_time": "2017-11-12T08:50:25.745300Z",
     "start_time": "2017-11-12T08:50:25.712829Z"
    }
   },
   "outputs": [
    {
     "name": "stdout",
     "output_type": "stream",
     "text": [
      "       NAME             SEQUENCE             CHAINTYPE\n",
      "0  CJK42 LC  QSSQQQQQNNDDD (101)   LCCDR1 (SEQ ID NO:)\n",
      "0  CJK42 LC        LLLSLDD (102)  LC CDR2 (SEQ ID NO:)\n",
      "0  CJK42 LC     AAAAAGGGYT (103)  LC CDR3 (SEQ ID NO:)\n"
     ]
    }
   ],
   "source": [
    "if __name__==\"__main__\":\n",
    "    pd_dataframe=table2pandas(doc,3,table_catalog_dict)\n",
    "    CDR_dataframe=get_CDR_dataframe(pd_dataframe,3,table_catalog_dict)\n",
    "    print(CDR_dataframe.iloc[0:4])"
   ]
  },
  {
   "cell_type": "markdown",
   "metadata": {},
   "source": [
    "## 将提取的数据合并生成Dataframe"
   ]
  },
  {
   "cell_type": "code",
   "execution_count": 9,
   "metadata": {
    "ExecuteTime": {
     "end_time": "2017-11-12T08:50:25.769067Z",
     "start_time": "2017-11-12T08:50:25.748212Z"
    },
    "collapsed": true
   },
   "outputs": [],
   "source": [
    "def make_seq_dataframe(doc,table_catalog_dict):\n",
    "    seq_dataframe_list=list()\n",
    "    for tableID in range(len(doc.tables)):\n",
    "        pd_dataframe=table2pandas(doc,tableID,table_catalog_dict)\n",
    "        if table_catalog_dict[tableID][\"seqtype\"]=='chain':\n",
    "            seq_dataframe_list.append(get_chain_dataframe(pd_dataframe,tableID,table_catalog_dict))\n",
    "        elif table_catalog_dict[tableID][\"seqtype\"]=='CDR':\n",
    "            seq_dataframe_list.append(get_CDR_dataframe(pd_dataframe,tableID,table_catalog_dict))\n",
    "    seq_dataframe=pd.concat(seq_dataframe_list)\n",
    "    return seq_dataframe"
   ]
  },
  {
   "cell_type": "code",
   "execution_count": 10,
   "metadata": {
    "ExecuteTime": {
     "end_time": "2017-11-12T08:50:25.827782Z",
     "start_time": "2017-11-12T08:50:25.772070Z"
    }
   },
   "outputs": [
    {
     "name": "stdout",
     "output_type": "stream",
     "text": [
      "                                NAME  \\\n",
      "0  CJK42 Heavy Chain Variable Region   \n",
      "0  CJK42 light Chain Variable Region   \n",
      "0                          CJK42 HC    \n",
      "0                          CJK42 HC    \n",
      "0                          CJK42 HC    \n",
      "0                           CJK42 LC   \n",
      "0                           CJK42 LC   \n",
      "0                           CJK42 LC   \n",
      "0                     Humanized VH 1   \n",
      "0                     Humanized VL 2   \n",
      "\n",
      "                                            SEQUENCE             CHAINTYPE  \n",
      "0  QSSRRSQQQQQQQQQQLSSSSSPPPPSSSSGLGGGRRRAAAMMMMM...            HeavyChain  \n",
      "0  QQQQSSQQQQQNNDDDLLLLSLDDLLLLLLLLMMMMMMMMMMMMMM...            LightChain  \n",
      "0                                         SSRRS (41)   HCCDR1 (SEQ ID NO:)  \n",
      "0                                SSSSSPPPPSSSSG (42)   HCCDR2 (SEQ ID NO:)  \n",
      "0                                     GGGRRRAAA (43)   HCCDR3 (SEQ ID NO:)  \n",
      "0                                QSSQQQQQNNDDD (101)   LCCDR1 (SEQ ID NO:)  \n",
      "0                                      LLLSLDD (102)  LC CDR2 (SEQ ID NO:)  \n",
      "0                                   AAAAAGGGYT (103)  LC CDR3 (SEQ ID NO:)  \n",
      "0  QQQQLLLLLQQQQQQQLLLLLLLLLLLLLLLLMMMMMMMMMMMMMM...            HeavyChain  \n",
      "0  QQQQQQQQQQQQQQQQLLLLLLLLLLLLLLLLMMMMMMMMMMMMMM...            LightChain  \n"
     ]
    }
   ],
   "source": [
    "if __name__==\"__main__\":\n",
    "    seq_dataframe=make_seq_dataframe(doc,table_catalog_dict)\n",
    "    print(seq_dataframe)"
   ]
  },
  {
   "cell_type": "markdown",
   "metadata": {},
   "source": [
    "# 提取序列中的数字作为ID"
   ]
  },
  {
   "cell_type": "markdown",
   "metadata": {},
   "source": [
    "## 将带有数字的序列复制到ID列"
   ]
  },
  {
   "cell_type": "code",
   "execution_count": 11,
   "metadata": {
    "ExecuteTime": {
     "end_time": "2017-11-12T08:50:25.834554Z",
     "start_time": "2017-11-12T08:50:25.829969Z"
    },
    "collapsed": true
   },
   "outputs": [],
   "source": [
    "def copy_seq_with_num_to_ID(df,col_from,col_to):\n",
    "    df[col_to]=\"\"\n",
    "    df[col_to]=df[col_from]\n",
    "    return df"
   ]
  },
  {
   "cell_type": "code",
   "execution_count": 12,
   "metadata": {
    "ExecuteTime": {
     "end_time": "2017-11-12T08:50:25.892031Z",
     "start_time": "2017-11-12T08:50:25.837192Z"
    },
    "collapsed": true
   },
   "outputs": [],
   "source": [
    "if __name__==\"__main__\":\n",
    "    seq_dataframe=make_seq_dataframe(doc,table_catalog_dict)\n",
    "#     print(seq_dataframe.iloc[0:2,:])\n",
    "    seq_dataframe=copy_seq_with_num_to_ID(seq_dataframe,\"SEQUENCE\",\"ID\")\n",
    "    # print(seq_dataframe)"
   ]
  },
  {
   "cell_type": "markdown",
   "metadata": {},
   "source": [
    "## 清洗ID"
   ]
  },
  {
   "cell_type": "code",
   "execution_count": 13,
   "metadata": {
    "ExecuteTime": {
     "end_time": "2017-11-12T08:50:25.997753Z",
     "start_time": "2017-11-12T08:50:25.894465Z"
    }
   },
   "outputs": [
    {
     "name": "stdout",
     "output_type": "stream",
     "text": [
      "                                NAME  \\\n",
      "0  CJK42 Heavy Chain Variable Region   \n",
      "0  CJK42 light Chain Variable Region   \n",
      "0                          CJK42 HC    \n",
      "0                          CJK42 HC    \n",
      "0                          CJK42 HC    \n",
      "0                           CJK42 LC   \n",
      "0                           CJK42 LC   \n",
      "0                           CJK42 LC   \n",
      "0                     Humanized VH 1   \n",
      "0                     Humanized VL 2   \n",
      "\n",
      "                                            SEQUENCE             CHAINTYPE  \\\n",
      "0  QSSRRSQQQQQQQQQQLSSSSSPPPPSSSSGLGGGRRRAAAMMMMM...            HeavyChain   \n",
      "0  QQQQSSQQQQQNNDDDLLLLSLDDLLLLLLLLMMMMMMMMMMMMMM...            LightChain   \n",
      "0                                         SSRRS (41)   HCCDR1 (SEQ ID NO:)   \n",
      "0                                SSSSSPPPPSSSSG (42)   HCCDR2 (SEQ ID NO:)   \n",
      "0                                     GGGRRRAAA (43)   HCCDR3 (SEQ ID NO:)   \n",
      "0                                QSSQQQQQNNDDD (101)   LCCDR1 (SEQ ID NO:)   \n",
      "0                                      LLLSLDD (102)  LC CDR2 (SEQ ID NO:)   \n",
      "0                                   AAAAAGGGYT (103)  LC CDR3 (SEQ ID NO:)   \n",
      "0  QQQQLLLLLQQQQQQQLLLLLLLLLLLLLLLLMMMMMMMMMMMMMM...            HeavyChain   \n",
      "0  QQQQQQQQQQQQQQQQLLLLLLLLLLLLLLLLMMMMMMMMMMMMMM...            LightChain   \n",
      "\n",
      "                                                  ID  \n",
      "0  QSSRRSQQQQQQQQQQLSSSSSPPPPSSSSGLGGGRRRAAAMMMMM...  \n",
      "0  QQQQSSQQQQQNNDDDLLLLSLDDLLLLLLLLMMMMMMMMMMMMMM...  \n",
      "0                                         SSRRS (41)  \n",
      "0                                SSSSSPPPPSSSSG (42)  \n",
      "0                                     GGGRRRAAA (43)  \n",
      "0                                QSSQQQQQNNDDD (101)  \n",
      "0                                      LLLSLDD (102)  \n",
      "0                                   AAAAAGGGYT (103)  \n",
      "0  QQQQLLLLLQQQQQQQLLLLLLLLLLLLLLLLMMMMMMMMMMMMMM...  \n",
      "0  QQQQQQQQQQQQQQQQLLLLLLLLLLLLLLLLMMMMMMMMMMMMMM...  \n"
     ]
    }
   ],
   "source": [
    "if __name__==\"__main__\":\n",
    "    df=make_seq_dataframe(doc,table_catalog_dict)\n",
    "#     print(seq_dataframe.iloc[0:2,:])\n",
    "    df=copy_seq_with_num_to_ID(df,\"SEQUENCE\",\"ID\")\n",
    "    \n",
    "    # 清洗ID\n",
    "    df=ID_clean(df, \"ID\")\n",
    "    \n",
    "    print(seq_dataframe)"
   ]
  },
  {
   "cell_type": "markdown",
   "metadata": {},
   "source": [
    "# 清洗"
   ]
  },
  {
   "cell_type": "code",
   "execution_count": 14,
   "metadata": {
    "ExecuteTime": {
     "end_time": "2017-11-12T08:50:26.075492Z",
     "start_time": "2017-11-12T08:50:26.000639Z"
    },
    "collapsed": true
   },
   "outputs": [],
   "source": [
    "if __name__==\"__main__\":\n",
    "    df=make_seq_dataframe(doc,table_catalog_dict)\n",
    "#     print(seq_dataframe.iloc[0:2,:])\n",
    "    df=copy_seq_with_num_to_ID(df,\"SEQUENCE\",\"ID\")\n",
    "    # 清洗ID\n",
    "    df=ID_clean(df,'ID')\n",
    "    \n",
    "    # 清洗name\n",
    "    df=name_clean(df,'NAME')\n",
    "    \n",
    "    # 注意没有3字母序列, 所以不可清理3字母序列, 否则就没了\n",
    "\n",
    "    # 清洗单字母序列\n",
    "    df=seq_1letters_clean(df,'SEQUENCE')\n",
    "\n",
    "    # 根据chaintype关键字清洗chaintype\n",
    "    df=chaintype_clean(df,\"CHAINTYPE\")\n",
    "    \n",
    "    # 保存数据\n",
    "    save_seq_to_csv(df,output_path,fname)"
   ]
  },
  {
   "cell_type": "markdown",
   "metadata": {},
   "source": [
    "# 封装"
   ]
  },
  {
   "cell_type": "code",
   "execution_count": 15,
   "metadata": {
    "ExecuteTime": {
     "end_time": "2017-11-12T08:50:26.121649Z",
     "start_time": "2017-11-12T08:50:26.078085Z"
    },
    "collapsed": true
   },
   "outputs": [],
   "source": [
    "def reconstruct_DOC(input_path,fname,output_path,table_catalog_dict):\n",
    "    # 读取文件\n",
    "    filename=os.path.join(input_path,fname)\n",
    "    doc = Document(filename)\n",
    "    \n",
    "    df=make_seq_dataframe(doc,table_catalog_dict)\n",
    "#     print(seq_dataframe.iloc[0:2,:])\n",
    "    df=copy_seq_with_num_to_ID(df,\"SEQUENCE\",\"ID\")\n",
    "    # 清洗ID\n",
    "    df=ID_clean(df,'ID')\n",
    "    \n",
    "    # 清洗name\n",
    "    df=name_clean(df,'NAME')\n",
    "    \n",
    "    # 注意没有3字母序列, 所以不可清理3字母序列, 否则就没了\n",
    "    \n",
    "    # 清洗单字母序列\n",
    "    df=seq_1letters_clean(df,'SEQUENCE')\n",
    "\n",
    "    # 根据chaintype关键字清洗chaintype\n",
    "    df=chaintype_clean(df,\"CHAINTYPE\")\n",
    "    \n",
    "    # 保存数据\n",
    "    save_seq_to_csv(df,output_path,fname)\n",
    "    \n",
    "    return df\n",
    "    "
   ]
  }
 ],
 "metadata": {
  "kernelspec": {
   "display_name": "Python 3",
   "language": "python",
   "name": "python3"
  },
  "language_info": {
   "codemirror_mode": {
    "name": "ipython",
    "version": 3
   },
   "file_extension": ".py",
   "mimetype": "text/x-python",
   "name": "python",
   "nbconvert_exporter": "python",
   "pygments_lexer": "ipython3",
   "version": "3.6.1"
  },
  "toc": {
   "colors": {
    "hover_highlight": "#DAA520",
    "navigate_num": "#000000",
    "navigate_text": "#333333",
    "running_highlight": "#FF0000",
    "selected_highlight": "#FFD700",
    "sidebar_border": "#EEEEEE",
    "wrapper_background": "#FFFFFF"
   },
   "moveMenuLeft": true,
   "nav_menu": {
    "height": "300px",
    "width": "254px"
   },
   "navigate_menu": true,
   "number_sections": true,
   "sideBar": true,
   "threshold": 4,
   "toc_cell": false,
   "toc_section_display": "block",
   "toc_window_display": false,
   "widenNotebook": false
  }
 },
 "nbformat": 4,
 "nbformat_minor": 2
}

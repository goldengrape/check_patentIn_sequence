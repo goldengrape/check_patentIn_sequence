{
 "cells": [
  {
   "cell_type": "markdown",
   "metadata": {
    "ExecuteTime": {
     "end_time": "2017-11-11T09:12:53.240842Z",
     "start_time": "2017-11-11T09:12:51.919334Z"
    }
   },
   "source": [
    "# 设定参数读取文件"
   ]
  },
  {
   "cell_type": "markdown",
   "metadata": {},
   "source": [
    "## 指定文件路径和文件名"
   ]
  },
  {
   "cell_type": "code",
   "execution_count": 1,
   "metadata": {
    "ExecuteTime": {
     "end_time": "2017-11-12T08:45:52.782222Z",
     "start_time": "2017-11-12T08:45:52.771875Z"
    },
    "collapsed": true
   },
   "outputs": [],
   "source": [
    "if __name__==\"__main__\":\n",
    "    input_path='demo'\n",
    "    fname='BBB.txt'\n",
    "    output_path=\"demo\""
   ]
  },
  {
   "cell_type": "code",
   "execution_count": 2,
   "metadata": {
    "ExecuteTime": {
     "end_time": "2017-11-12T08:45:54.011850Z",
     "start_time": "2017-11-12T08:45:52.785459Z"
    },
    "collapsed": true
   },
   "outputs": [],
   "source": [
    "import re\n",
    "import os\n",
    "import json\n",
    "\n",
    "import pandas as pd\n",
    "from pandas import DataFrame,Series\n",
    "from Bio.SeqUtils import seq1\n",
    "from save_sequence import save_seq_to_csv # 自建包, 保存数据至csv\n",
    "from patentIn_to_json import patentIn_to_json\n",
    "from cleaner import chaintype_clean,name_clean,seq_3letters_clean, seq_1letters_clean, ID_clean\n"
   ]
  },
  {
   "cell_type": "markdown",
   "metadata": {},
   "source": [
    "## 转换并读取JSON"
   ]
  },
  {
   "cell_type": "code",
   "execution_count": 3,
   "metadata": {
    "ExecuteTime": {
     "end_time": "2017-11-12T08:45:54.020610Z",
     "start_time": "2017-11-12T08:45:54.014397Z"
    },
    "collapsed": true
   },
   "outputs": [],
   "source": [
    "def read_json_to_dataframe(input_path,fname,output_path):\n",
    "    json_filename=patentIn_to_json(input_path,fname,output_path)\n",
    "    data=pd.read_json(json_filename)\n",
    "    return(data)"
   ]
  },
  {
   "cell_type": "code",
   "execution_count": 4,
   "metadata": {
    "ExecuteTime": {
     "end_time": "2017-11-12T08:45:54.090202Z",
     "start_time": "2017-11-12T08:45:54.022936Z"
    }
   },
   "outputs": [
    {
     "name": "stdout",
     "output_type": "stream",
     "text": [
      "                                        <000>                 <110>  \\\n",
      "0                            SEQUENCE LISTING     GoldenGrape Phama   \n",
      "1                                         NaN                   NaN   \n",
      "\n",
      "                 <120>      <130>  <160>                    <170>  <210>  \\\n",
      "0     Antibodies of GG     42.5TH  986.0     PatentIn version 3.5    NaN   \n",
      "1                  NaN        NaN    NaN                      NaN    1.0   \n",
      "\n",
      "   <211>   <212>                   <213> <220>  \\\n",
      "0    NaN     NaN                     NaN   NaN   \n",
      "1  113.0     PRT     Artificial Sequence         \n",
      "\n",
      "                                  <223>  <400>  \\\n",
      "0                                   NaN    NaN   \n",
      "1     CJK42 Heavy Chain Variable Region    1.0   \n",
      "\n",
      "                                               <seq>  \n",
      "0                                                NaN  \n",
      "1   Gln Ser Ser Arg Arg Ser Gln Gln Gln Gln Gln G...  \n"
     ]
    }
   ],
   "source": [
    "if __name__==\"__main__\":\n",
    "    # 转换并读取json\n",
    "    df=read_json_to_dataframe(input_path,fname,output_path)\n",
    "    print(df[0:2])"
   ]
  },
  {
   "cell_type": "markdown",
   "metadata": {},
   "source": [
    "# 抽取dataframe, 重整"
   ]
  },
  {
   "cell_type": "code",
   "execution_count": 5,
   "metadata": {
    "ExecuteTime": {
     "end_time": "2017-11-12T08:45:54.111132Z",
     "start_time": "2017-11-12T08:45:54.095791Z"
    },
    "collapsed": true
   },
   "outputs": [],
   "source": [
    "def reframe_df(df):\n",
    "    seq_df=df.loc[1:,[\"<210>\",\"<223>\",\"<seq>\"]].copy()\n",
    "    seq_df.columns=[\"ID\",\"NAME\",\"SEQUENCE\"]\n",
    "    seq_df['CHAINTYPE']=seq_df.NAME\n",
    "    seq_df=seq_df.fillna(\"None\")\n",
    "\n",
    "    return (seq_df)"
   ]
  },
  {
   "cell_type": "code",
   "execution_count": 10,
   "metadata": {
    "ExecuteTime": {
     "end_time": "2017-11-12T08:46:12.545390Z",
     "start_time": "2017-11-12T08:46:12.518771Z"
    }
   },
   "outputs": [],
   "source": [
    "if __name__==\"__main__\":\n",
    "    # 转换并读取json\n",
    "    df=read_json_to_dataframe(input_path,fname,output_path)\n",
    "    \n",
    "    #抽取dataframe, 重整\n",
    "    df=reframe_df(df)"
   ]
  },
  {
   "cell_type": "markdown",
   "metadata": {},
   "source": [
    "# 清洗\n",
    "\n",
    "* 清洗name\n",
    "```python    \n",
    "df=name_clean(df,'NAME') ```\n",
    "* 清洗3字母序列\n",
    "```python   \n",
    "    df=seq_3letters_clean(df,'SEQUENCE')```\n",
    "    \n",
    "* 清洗单字母序列\n",
    "```python   \n",
    "    df=seq_1letters_clean(df,'SEQUENCE')```\n",
    "\n",
    "* 根据chaintype关键字清洗chaintype\n",
    "```python   \n",
    "    df=chaintype_clean(df,\"CHAINTYPE\")```"
   ]
  },
  {
   "cell_type": "code",
   "execution_count": 7,
   "metadata": {
    "ExecuteTime": {
     "end_time": "2017-11-12T08:45:54.280309Z",
     "start_time": "2017-11-12T08:45:54.191445Z"
    }
   },
   "outputs": [
    {
     "name": "stdout",
     "output_type": "stream",
     "text": [
      "   ID   NAME                                           SEQUENCE   CHAINTYPE\n",
      "1   1  CJK42  QSSRRSQQQQQQQQQQLSSSSSPPPPSSSSGLGGGRRRAAAMMMMM...  HeavyChain\n"
     ]
    }
   ],
   "source": [
    "if __name__==\"__main__\":\n",
    "    # 转换并读取json\n",
    "    df=read_json_to_dataframe(input_path,fname,output_path)\n",
    "    \n",
    "    # 抽取dataframe, 重整\n",
    "    df=reframe_df(df)\n",
    "    \n",
    "    # 清洗ID\n",
    "    df=ID_clean(df,'ID')\n",
    "    \n",
    "    # 清洗name\n",
    "    df=name_clean(df,'NAME')\n",
    "    \n",
    "    # 清洗3字母序列\n",
    "    df=seq_3letters_clean(df,'SEQUENCE')\n",
    "    \n",
    "    # 清洗单字母序列\n",
    "    df=seq_1letters_clean(df,'SEQUENCE')\n",
    "\n",
    "    # 根据chaintype关键字清洗chaintype\n",
    "    df=chaintype_clean(df,\"CHAINTYPE\")\n",
    "    \n",
    "    print(df[0:152:20])"
   ]
  },
  {
   "cell_type": "markdown",
   "metadata": {},
   "source": [
    "# 保存数据"
   ]
  },
  {
   "cell_type": "code",
   "execution_count": 8,
   "metadata": {
    "ExecuteTime": {
     "end_time": "2017-11-12T08:45:54.381523Z",
     "start_time": "2017-11-12T08:45:54.286744Z"
    },
    "collapsed": true
   },
   "outputs": [],
   "source": [
    "if __name__==\"__main__\":\n",
    "    # 转换并读取json\n",
    "    df=read_json_to_dataframe(input_path,fname,output_path)\n",
    "    \n",
    "    # 抽取dataframe, 重整\n",
    "    df=reframe_df(df)\n",
    "    \n",
    "    # 清洗ID\n",
    "    df=ID_clean(df,'ID')\n",
    "    \n",
    "    # 清洗name\n",
    "    df=name_clean(df,'NAME')\n",
    "    \n",
    "    # 清洗3字母序列\n",
    "    df=seq_3letters_clean(df,'SEQUENCE')\n",
    "    \n",
    "    # 清洗单字母序列\n",
    "    df=seq_1letters_clean(df,'SEQUENCE')\n",
    "\n",
    "    # 根据chaintype关键字清洗chaintype\n",
    "    df=chaintype_clean(df,\"CHAINTYPE\")\n",
    "    \n",
    "    # 保存数据\n",
    "    save_seq_to_csv(df,output_path,fname)"
   ]
  },
  {
   "cell_type": "markdown",
   "metadata": {},
   "source": [
    "# 封装"
   ]
  },
  {
   "cell_type": "code",
   "execution_count": 9,
   "metadata": {
    "ExecuteTime": {
     "end_time": "2017-11-12T08:45:54.470042Z",
     "start_time": "2017-11-12T08:45:54.394277Z"
    },
    "collapsed": true
   },
   "outputs": [],
   "source": [
    "def reconstruct_TXT(input_path,fname,output_path):\n",
    "    # 转换并读取json\n",
    "    df=read_json_to_dataframe(input_path,fname,output_path)\n",
    "    \n",
    "    # 抽取dataframe, 重整\n",
    "    df=reframe_df(df)\n",
    "    \n",
    "    # 清洗ID\n",
    "    df=ID_clean(df,'ID')\n",
    "    \n",
    "    # 清洗name\n",
    "    df=name_clean(df,'NAME')\n",
    "    \n",
    "    # 清洗3字母序列\n",
    "    df=seq_3letters_clean(df,'SEQUENCE')\n",
    "    \n",
    "    # 清洗单字母序列\n",
    "    df=seq_1letters_clean(df,'SEQUENCE')\n",
    "\n",
    "    # 根据chaintype关键字清洗chaintype\n",
    "    df=chaintype_clean(df,\"CHAINTYPE\")\n",
    "    \n",
    "    # 保存数据\n",
    "    save_seq_to_csv(df,output_path,fname)\n",
    "    \n",
    "    return df\n",
    "    "
   ]
  }
 ],
 "metadata": {
  "kernelspec": {
   "display_name": "Python 3",
   "language": "python",
   "name": "python3"
  },
  "language_info": {
   "codemirror_mode": {
    "name": "ipython",
    "version": 3
   },
   "file_extension": ".py",
   "mimetype": "text/x-python",
   "name": "python",
   "nbconvert_exporter": "python",
   "pygments_lexer": "ipython3",
   "version": "3.6.1"
  },
  "toc": {
   "colors": {
    "hover_highlight": "#DAA520",
    "navigate_num": "#000000",
    "navigate_text": "#333333",
    "running_highlight": "#FF0000",
    "selected_highlight": "#FFD700",
    "sidebar_border": "#EEEEEE",
    "wrapper_background": "#FFFFFF"
   },
   "moveMenuLeft": true,
   "nav_menu": {
    "height": "158px",
    "width": "254px"
   },
   "navigate_menu": true,
   "number_sections": true,
   "sideBar": true,
   "threshold": 4,
   "toc_cell": false,
   "toc_section_display": "block",
   "toc_window_display": false,
   "widenNotebook": false
  }
 },
 "nbformat": 4,
 "nbformat_minor": 2
}

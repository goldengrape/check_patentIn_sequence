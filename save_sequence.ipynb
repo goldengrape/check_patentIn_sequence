{
 "cells": [
  {
   "cell_type": "markdown",
   "metadata": {},
   "source": [
    "# 保存成csv文件"
   ]
  },
  {
   "cell_type": "code",
   "execution_count": 2,
   "metadata": {
    "ExecuteTime": {
     "end_time": "2017-11-04T02:14:18.736900Z",
     "start_time": "2017-11-04T02:14:18.733626Z"
    },
    "collapsed": true
   },
   "outputs": [],
   "source": [
    "import os\n",
    "import pandas as pd"
   ]
  },
  {
   "cell_type": "code",
   "execution_count": null,
   "metadata": {
    "collapsed": true
   },
   "outputs": [],
   "source": [
    "def build_filename(output_path,fname,new_ext):\n",
    "    fname, ext = os.path.splitext(fname)\n",
    "    output_filename=os.path.join(output_path,fname+new_ext)\n",
    "    return output_filename"
   ]
  },
  {
   "cell_type": "code",
   "execution_count": 4,
   "metadata": {
    "ExecuteTime": {
     "end_time": "2017-11-04T02:14:25.508512Z",
     "start_time": "2017-11-04T02:14:25.498752Z"
    }
   },
   "outputs": [],
   "source": [
    "def save_seq_to_csv(seq_dataframe,output_path,fname):\n",
    "    output_filename=build_filename(output_path,fname,'.csv')\n",
    "    seq_dataframe.to_csv(output_filename)\n",
    "    return 1"
   ]
  },
  {
   "cell_type": "markdown",
   "metadata": {},
   "source": [
    "# 保存成fasta文件\n",
    "\n",
    "提取时貌似有一些字符串上的转换问题, 暂时不保存成fasta文件"
   ]
  },
  {
   "cell_type": "code",
   "execution_count": 5,
   "metadata": {
    "ExecuteTime": {
     "end_time": "2017-11-04T02:20:43.479044Z",
     "start_time": "2017-11-04T02:20:43.291807Z"
    },
    "collapsed": true
   },
   "outputs": [],
   "source": [
    "# from Bio.Seq import Seq\n",
    "# from Bio.SeqRecord import SeqRecord\n",
    "# from Bio.Alphabet import generic_protein\n",
    "# from Bio import SeqIO"
   ]
  },
  {
   "cell_type": "code",
   "execution_count": 8,
   "metadata": {
    "ExecuteTime": {
     "end_time": "2017-11-04T03:31:14.214507Z",
     "start_time": "2017-11-04T03:31:14.202852Z"
    }
   },
   "outputs": [],
   "source": [
    "def save_seq_to_fasta(seq_dataframe,output_path,fname):\n",
    "    output_filename=build_filename(output_path,fname,'.fasta')\n",
    "    seqList=list()\n",
    "    for ID in seq_dataframe.index:\n",
    "        Description=seq_dataframe.loc[ID,\"chaintype\"].to_string #是否用to_string?\n",
    "        sequence=seq_dataframe.loc[ID,\"SEQUENCE\"]\n",
    "        rec = SeqRecord(\n",
    "                Seq(sequence, generic_protein),\n",
    "                id=ID+\"|\"+Description,\n",
    "                description=Description)\n",
    "        seqList.append(rec)        \n",
    "    SeqIO.write(seqList, output_filename, \"fasta\")\n",
    "    return True"
   ]
  },
  {
   "cell_type": "code",
   "execution_count": null,
   "metadata": {
    "collapsed": true
   },
   "outputs": [],
   "source": []
  }
 ],
 "metadata": {
  "kernelspec": {
   "display_name": "Python 3",
   "language": "python",
   "name": "python3"
  },
  "language_info": {
   "codemirror_mode": {
    "name": "ipython",
    "version": 3
   },
   "file_extension": ".py",
   "mimetype": "text/x-python",
   "name": "python",
   "nbconvert_exporter": "python",
   "pygments_lexer": "ipython3",
   "version": "3.6.1"
  },
  "toc": {
   "colors": {
    "hover_highlight": "#DAA520",
    "navigate_num": "#000000",
    "navigate_text": "#333333",
    "running_highlight": "#FF0000",
    "selected_highlight": "#FFD700",
    "sidebar_border": "#EEEEEE",
    "wrapper_background": "#FFFFFF"
   },
   "moveMenuLeft": true,
   "nav_menu": {
    "height": "48px",
    "width": "254px"
   },
   "navigate_menu": true,
   "number_sections": true,
   "sideBar": true,
   "threshold": 4,
   "toc_cell": false,
   "toc_section_display": "block",
   "toc_window_display": false,
   "widenNotebook": false
  }
 },
 "nbformat": 4,
 "nbformat_minor": 2
}
